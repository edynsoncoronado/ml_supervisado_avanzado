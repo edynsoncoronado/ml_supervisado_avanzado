{
 "cells": [
  {
   "cell_type": "code",
   "execution_count": 2,
   "id": "067e32bb-1ec0-4f1e-bd10-b080db45fdc5",
   "metadata": {},
   "outputs": [
    {
     "name": "stderr",
     "output_type": "stream",
     "text": [
      "/home/edyn/Documentos/obsidian-doc/Projects/MachineLearningEngineer/Curso2/Proyecto/Repo/ml2_class4_mlsupervisadoavanzado/.venv/lib/python3.12/site-packages/tqdm/auto.py:21: TqdmWarning: IProgress not found. Please update jupyter and ipywidgets. See https://ipywidgets.readthedocs.io/en/stable/user_install.html\n",
      "  from .autonotebook import tqdm as notebook_tqdm\n",
      "None of PyTorch, TensorFlow >= 2.0, or Flax have been found. Models won't be available and only tokenizers, configuration and file/data utilities can be used.\n",
      "None of PyTorch, TensorFlow >= 2.0, or Flax have been found. Models won't be available and only tokenizers, configuration and file/data utilities can be used.\n"
     ]
    }
   ],
   "source": [
    "# Importa pandas para manipulación de datos y FeatureStore de Feast para consumir features.\n",
    "import pandas as pd\n",
    "from feast import FeatureStore"
   ]
  },
  {
   "cell_type": "code",
   "execution_count": 3,
   "id": "dbc23db2",
   "metadata": {},
   "outputs": [],
   "source": [
    "# Inicializa el FeatureStore apuntando al repositorio donde están definidas las entidades, vistas y servicios de Feast.\n",
    "fs = FeatureStore(\"../feature_repo/feature_repo\")\n"
   ]
  },
  {
   "cell_type": "markdown",
   "id": "5ea7f72d",
   "metadata": {},
   "source": [
    "# Consumir features offline"
   ]
  },
  {
   "cell_type": "code",
   "execution_count": 4,
   "id": "d602e911",
   "metadata": {},
   "outputs": [
    {
     "data": {
      "text/html": [
       "<div>\n",
       "<style scoped>\n",
       "    .dataframe tbody tr th:only-of-type {\n",
       "        vertical-align: middle;\n",
       "    }\n",
       "\n",
       "    .dataframe tbody tr th {\n",
       "        vertical-align: top;\n",
       "    }\n",
       "\n",
       "    .dataframe thead th {\n",
       "        text-align: right;\n",
       "    }\n",
       "</style>\n",
       "<table border=\"1\" class=\"dataframe\">\n",
       "  <thead>\n",
       "    <tr style=\"text-align: right;\">\n",
       "      <th></th>\n",
       "      <th>booking_id</th>\n",
       "      <th>event_timestamp</th>\n",
       "    </tr>\n",
       "  </thead>\n",
       "  <tbody>\n",
       "    <tr>\n",
       "      <th>0</th>\n",
       "      <td>f1ccaa85-7747-4dc3-be4d-5f229a2e07a4</td>\n",
       "      <td>2025-07-21 15:43:00.314856+00:00</td>\n",
       "    </tr>\n",
       "    <tr>\n",
       "      <th>1</th>\n",
       "      <td>1466b87e-16c3-484e-b122-c0de8f375e0e</td>\n",
       "      <td>2025-07-21 15:43:00.314856+00:00</td>\n",
       "    </tr>\n",
       "  </tbody>\n",
       "</table>\n",
       "</div>"
      ],
      "text/plain": [
       "                             booking_id                  event_timestamp\n",
       "0  f1ccaa85-7747-4dc3-be4d-5f229a2e07a4 2025-07-21 15:43:00.314856+00:00\n",
       "1  1466b87e-16c3-484e-b122-c0de8f375e0e 2025-07-21 15:43:00.314856+00:00"
      ]
     },
     "execution_count": 4,
     "metadata": {},
     "output_type": "execute_result"
    }
   ],
   "source": [
    "entity_df_offline = pd.DataFrame.from_dict(\n",
    "        {\n",
    "            # IDs de reservas para consultar features.\n",
    "            \"booking_id\": [\"f1ccaa85-7747-4dc3-be4d-5f229a2e07a4\", \"1466b87e-16c3-484e-b122-c0de8f375e0e\"],\n",
    "        },\n",
    "    )\n",
    "\n",
    "entity_df_offline[\"event_timestamp\"] = pd.to_datetime(\"now\", utc=True)\n",
    "entity_df_offline\n"
   ]
  },
  {
   "cell_type": "code",
   "execution_count": 5,
   "id": "b773be41",
   "metadata": {},
   "outputs": [
    {
     "data": {
      "text/html": [
       "<div>\n",
       "<style scoped>\n",
       "    .dataframe tbody tr th:only-of-type {\n",
       "        vertical-align: middle;\n",
       "    }\n",
       "\n",
       "    .dataframe tbody tr th {\n",
       "        vertical-align: top;\n",
       "    }\n",
       "\n",
       "    .dataframe thead th {\n",
       "        text-align: right;\n",
       "    }\n",
       "</style>\n",
       "<table border=\"1\" class=\"dataframe\">\n",
       "  <thead>\n",
       "    <tr style=\"text-align: right;\">\n",
       "      <th></th>\n",
       "      <th>booking_id</th>\n",
       "      <th>event_timestamp</th>\n",
       "      <th>great_feature1</th>\n",
       "      <th>great_feature2</th>\n",
       "    </tr>\n",
       "  </thead>\n",
       "  <tbody>\n",
       "    <tr>\n",
       "      <th>0</th>\n",
       "      <td>f1ccaa85-7747-4dc3-be4d-5f229a2e07a4</td>\n",
       "      <td>2025-07-21 15:43:00.314856+00:00</td>\n",
       "      <td>2.169662</td>\n",
       "      <td>0.890985</td>\n",
       "    </tr>\n",
       "    <tr>\n",
       "      <th>1</th>\n",
       "      <td>1466b87e-16c3-484e-b122-c0de8f375e0e</td>\n",
       "      <td>2025-07-21 15:43:00.314856+00:00</td>\n",
       "      <td>2.309743</td>\n",
       "      <td>-0.817679</td>\n",
       "    </tr>\n",
       "  </tbody>\n",
       "</table>\n",
       "</div>"
      ],
      "text/plain": [
       "                             booking_id                  event_timestamp  \\\n",
       "0  f1ccaa85-7747-4dc3-be4d-5f229a2e07a4 2025-07-21 15:43:00.314856+00:00   \n",
       "1  1466b87e-16c3-484e-b122-c0de8f375e0e 2025-07-21 15:43:00.314856+00:00   \n",
       "\n",
       "   great_feature1  great_feature2  \n",
       "0        2.169662        0.890985  \n",
       "1        2.309743       -0.817679  "
      ]
     },
     "execution_count": 5,
     "metadata": {},
     "output_type": "execute_result"
    }
   ],
   "source": [
    "fs.get_historical_features(\n",
    "    # Consulta las features históricas en Feast usando los valores del DataFrame.\n",
    "    entity_df=entity_df_offline,\n",
    "    features=[\n",
    "        # Solicita las features 'great_feature1' y 'great_feature2' de la vista 'pc_booking_view',\n",
    "        \"pc_booking_view:great_feature1\",\n",
    "        \"pc_booking_view:great_feature2\",\n",
    "    ],\n",
    "# Convierte el resultado a un DataFrame de pandas.\n",
    ").to_df()"
   ]
  },
  {
   "cell_type": "markdown",
   "id": "7f27c427",
   "metadata": {},
   "source": [
    "# Consumir features online"
   ]
  },
  {
   "cell_type": "code",
   "execution_count": 6,
   "id": "2b124060",
   "metadata": {},
   "outputs": [
    {
     "data": {
      "text/html": [
       "<div>\n",
       "<style scoped>\n",
       "    .dataframe tbody tr th:only-of-type {\n",
       "        vertical-align: middle;\n",
       "    }\n",
       "\n",
       "    .dataframe tbody tr th {\n",
       "        vertical-align: top;\n",
       "    }\n",
       "\n",
       "    .dataframe thead th {\n",
       "        text-align: right;\n",
       "    }\n",
       "</style>\n",
       "<table border=\"1\" class=\"dataframe\">\n",
       "  <thead>\n",
       "    <tr style=\"text-align: right;\">\n",
       "      <th></th>\n",
       "      <th>booking_id</th>\n",
       "      <th>kpi1</th>\n",
       "      <th>kpi2</th>\n",
       "      <th>event_timestamp</th>\n",
       "    </tr>\n",
       "  </thead>\n",
       "  <tbody>\n",
       "    <tr>\n",
       "      <th>0</th>\n",
       "      <td>f1ccaa85-7747-4dc3-be4d-5f229a2e07a4</td>\n",
       "      <td>2</td>\n",
       "      <td>10</td>\n",
       "      <td>2025-07-21 15:43:00.733816+00:00</td>\n",
       "    </tr>\n",
       "    <tr>\n",
       "      <th>1</th>\n",
       "      <td>1466b87e-16c3-484e-b122-c0de8f375e0e</td>\n",
       "      <td>5</td>\n",
       "      <td>10</td>\n",
       "      <td>2025-07-21 15:43:00.733816+00:00</td>\n",
       "    </tr>\n",
       "  </tbody>\n",
       "</table>\n",
       "</div>"
      ],
      "text/plain": [
       "                             booking_id  kpi1  kpi2  \\\n",
       "0  f1ccaa85-7747-4dc3-be4d-5f229a2e07a4     2    10   \n",
       "1  1466b87e-16c3-484e-b122-c0de8f375e0e     5    10   \n",
       "\n",
       "                   event_timestamp  \n",
       "0 2025-07-21 15:43:00.733816+00:00  \n",
       "1 2025-07-21 15:43:00.733816+00:00  "
      ]
     },
     "execution_count": 6,
     "metadata": {},
     "output_type": "execute_result"
    }
   ],
   "source": [
    "# Crea un DataFrame con los ids de las entidades y variables de entrada usadas en la FeatureView ondemand.\n",
    "entity_df_online = pd.DataFrame.from_dict(\n",
    "        {\n",
    "            # IDs de reservas para consultar features.\n",
    "            \"booking_id\": [\"f1ccaa85-7747-4dc3-be4d-5f229a2e07a4\", \"1466b87e-16c3-484e-b122-c0de8f375e0e\"],\n",
    "            \"kpi1\": [2, 5],\n",
    "            \"kpi2\": [10, 10 ],\n",
    "        },\n",
    "    )\n",
    "\n",
    "# Añade una columna de timestamp actual en formato UTC, necesaria para la consulta histórica en Feast.\n",
    "entity_df_online[\"event_timestamp\"] = pd.to_datetime(\"now\", utc=True)\n",
    "\n",
    "# Muestra el DataFrame creado.\n",
    "entity_df_online\n"
   ]
  },
  {
   "cell_type": "code",
   "execution_count": 7,
   "id": "11888f96",
   "metadata": {},
   "outputs": [
    {
     "data": {
      "text/html": [
       "<div>\n",
       "<style scoped>\n",
       "    .dataframe tbody tr th:only-of-type {\n",
       "        vertical-align: middle;\n",
       "    }\n",
       "\n",
       "    .dataframe tbody tr th {\n",
       "        vertical-align: top;\n",
       "    }\n",
       "\n",
       "    .dataframe thead th {\n",
       "        text-align: right;\n",
       "    }\n",
       "</style>\n",
       "<table border=\"1\" class=\"dataframe\">\n",
       "  <thead>\n",
       "    <tr style=\"text-align: right;\">\n",
       "      <th></th>\n",
       "      <th>booking_id</th>\n",
       "      <th>kpi1</th>\n",
       "      <th>kpi2</th>\n",
       "      <th>event_timestamp</th>\n",
       "      <th>great_feature1</th>\n",
       "      <th>great_feature2</th>\n",
       "      <th>great_feature1_kpi1</th>\n",
       "      <th>great_feature2_kpi2</th>\n",
       "    </tr>\n",
       "  </thead>\n",
       "  <tbody>\n",
       "    <tr>\n",
       "      <th>0</th>\n",
       "      <td>f1ccaa85-7747-4dc3-be4d-5f229a2e07a4</td>\n",
       "      <td>2</td>\n",
       "      <td>10</td>\n",
       "      <td>2025-07-21 15:43:00.733816+00:00</td>\n",
       "      <td>2.169662</td>\n",
       "      <td>0.890985</td>\n",
       "      <td>4.339325</td>\n",
       "      <td>8.909850</td>\n",
       "    </tr>\n",
       "    <tr>\n",
       "      <th>1</th>\n",
       "      <td>1466b87e-16c3-484e-b122-c0de8f375e0e</td>\n",
       "      <td>5</td>\n",
       "      <td>10</td>\n",
       "      <td>2025-07-21 15:43:00.733816+00:00</td>\n",
       "      <td>2.309743</td>\n",
       "      <td>-0.817679</td>\n",
       "      <td>11.548715</td>\n",
       "      <td>-8.176788</td>\n",
       "    </tr>\n",
       "  </tbody>\n",
       "</table>\n",
       "</div>"
      ],
      "text/plain": [
       "                             booking_id  kpi1  kpi2  \\\n",
       "0  f1ccaa85-7747-4dc3-be4d-5f229a2e07a4     2    10   \n",
       "1  1466b87e-16c3-484e-b122-c0de8f375e0e     5    10   \n",
       "\n",
       "                   event_timestamp  great_feature1  great_feature2  \\\n",
       "0 2025-07-21 15:43:00.733816+00:00        2.169662        0.890985   \n",
       "1 2025-07-21 15:43:00.733816+00:00        2.309743       -0.817679   \n",
       "\n",
       "   great_feature1_kpi1  great_feature2_kpi2  \n",
       "0             4.339325             8.909850  \n",
       "1            11.548715            -8.176788  "
      ]
     },
     "execution_count": 7,
     "metadata": {},
     "output_type": "execute_result"
    }
   ],
   "source": [
    "fs.get_historical_features(\n",
    "    entity_df=entity_df_online,\n",
    "    features=[\n",
    "        \"pc_booking_view:great_feature1\",\n",
    "        \"pc_booking_view:great_feature2\",\n",
    "        # Solicita las features calculadas 'great_feature1_kpi1' y 'great_feature2_kpi2' de la vista on-demand 'great_feature_view'.\n",
    "        \"great_feature_view:great_feature1_kpi1\",\n",
    "        \"great_feature_view:great_feature2_kpi2\",\n",
    "    ],\n",
    ").to_df()"
   ]
  },
  {
   "cell_type": "code",
   "execution_count": null,
   "id": "85671236",
   "metadata": {},
   "outputs": [],
   "source": []
  }
 ],
 "metadata": {
  "kernelspec": {
   "display_name": "Python 3 (ipykernel)",
   "language": "python",
   "name": "python3"
  },
  "language_info": {
   "codemirror_mode": {
    "name": "ipython",
    "version": 3
   },
   "file_extension": ".py",
   "mimetype": "text/x-python",
   "name": "python",
   "nbconvert_exporter": "python",
   "pygments_lexer": "ipython3",
   "version": "3.12.1"
  }
 },
 "nbformat": 4,
 "nbformat_minor": 5
}
