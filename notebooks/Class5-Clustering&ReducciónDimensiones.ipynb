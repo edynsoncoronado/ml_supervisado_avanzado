{
 "cells": [
  {
   "cell_type": "code",
   "execution_count": 6,
   "id": "d694b222-3c21-44a3-a237-cc4ceffced48",
   "metadata": {},
   "outputs": [],
   "source": [
    "import numpy as np\n",
    "from scipy.spatial.distance import euclidean"
   ]
  },
  {
   "cell_type": "markdown",
   "id": "7c502aba",
   "metadata": {},
   "source": [
    "# 📌 Ejemplo 1: Cálculo de distancia euclidiana entre dos puntos"
   ]
  },
  {
   "cell_type": "code",
   "execution_count": null,
   "id": "63f6dcec",
   "metadata": {},
   "outputs": [],
   "source": [
    "# Dos puntos en 2D\n",
    "p1 = np.array([2, 3])\n",
    "p2 = np.array([7, 9])"
   ]
  },
  {
   "cell_type": "code",
   "execution_count": null,
   "id": "ab716b98",
   "metadata": {},
   "outputs": [],
   "source": [
    "# Cálculo manual\n",
    "# dist_manual = np.sqrt((p1[0] - p2[0])**2 + (p1[1] - p2[1])**2)\n",
    "dist_manual = np.sqrt(np.sum((p1 - p2) ** 2))"
   ]
  },
  {
   "cell_type": "code",
   "execution_count": null,
   "id": "060a4204",
   "metadata": {},
   "outputs": [],
   "source": [
    "# Cálculo con SciPy\n",
    "dist_scipy = euclidean(p1, p2)"
   ]
  },
  {
   "cell_type": "code",
   "execution_count": 8,
   "id": "244e3def",
   "metadata": {},
   "outputs": [
    {
     "name": "stdout",
     "output_type": "stream",
     "text": [
      "Distancia Euclidiana (manual): 7.810249675906654\n",
      "Distancia Euclidiana (SciPy): 7.810249675906654\n"
     ]
    }
   ],
   "source": [
    "print(\"Distancia Euclidiana (manual):\", dist_manual)\n",
    "print(\"Distancia Euclidiana (SciPy):\", dist_scipy)"
   ]
  },
  {
   "cell_type": "code",
   "execution_count": null,
   "id": "7366329e",
   "metadata": {},
   "outputs": [],
   "source": []
  }
 ],
 "metadata": {
  "kernelspec": {
   "display_name": "Python 3 (ipykernel)",
   "language": "python",
   "name": "python3"
  },
  "language_info": {
   "codemirror_mode": {
    "name": "ipython",
    "version": 3
   },
   "file_extension": ".py",
   "mimetype": "text/x-python",
   "name": "python",
   "nbconvert_exporter": "python",
   "pygments_lexer": "ipython3",
   "version": "3.12.1"
  }
 },
 "nbformat": 4,
 "nbformat_minor": 5
}
