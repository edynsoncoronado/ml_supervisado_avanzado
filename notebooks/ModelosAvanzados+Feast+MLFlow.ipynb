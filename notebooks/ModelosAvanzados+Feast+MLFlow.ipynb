{
 "cells": [
  {
   "cell_type": "markdown",
   "id": "facad5a6",
   "metadata": {},
   "source": [
    "# Feature Engineering"
   ]
  },
  {
   "cell_type": "code",
   "execution_count": 121,
   "id": "08b68361-87af-466f-a41e-be55051d65e5",
   "metadata": {},
   "outputs": [],
   "source": [
    "import pandas as pd\n",
    "import numpy as np\n",
    "\n",
    "from sklearn.model_selection import train_test_split\n",
    "\n",
    "from ml2_mlsupervisadoavanzado.eee.feature_enginering import FeatureEngineeringProcessor"
   ]
  },
  {
   "cell_type": "code",
   "execution_count": 122,
   "id": "28fce699",
   "metadata": {},
   "outputs": [],
   "source": [
    "# Dataset Hotel Booking -> https://www.kaggle.com/datasets/jessemostipak/hotel-booking-demand/data\n",
    "raw_data = pd.read_csv(\"../data/raw/hotel_bookings.csv\")"
   ]
  },
  {
   "cell_type": "code",
   "execution_count": 123,
   "id": "3dc939fd",
   "metadata": {},
   "outputs": [],
   "source": [
    "# Divide el DataFrame en conjuntos de entrenamiento y prueba usando scikit-learn.\n",
    "train_raw_data, test_raw_data = train_test_split(\n",
    "    raw_data, test_size=0.2, random_state=42\n",
    ")"
   ]
  },
  {
   "cell_type": "code",
   "execution_count": 124,
   "id": "a806d831",
   "metadata": {},
   "outputs": [
    {
     "name": "stdout",
     "output_type": "stream",
     "text": [
      "\u001b[32m2025-08-04 14:27:53.629\u001b[0m | \u001b[1mINFO    \u001b[0m | \u001b[36mml2_mlsupervisadoavanzado.eee.feature_enginering\u001b[0m:\u001b[36mrun\u001b[0m:\u001b[36m68\u001b[0m - \u001b[1mInicializando pipeline train_pipeline\u001b[0m\n",
      "\u001b[32m2025-08-04 14:27:53.629\u001b[0m | \u001b[1mINFO    \u001b[0m | \u001b[36mml2_mlsupervisadoavanzado.eee.feature_enginering\u001b[0m:\u001b[36mencode_categoricals\u001b[0m:\u001b[36m51\u001b[0m - \u001b[1mCodificando con OHE hotel\u001b[0m\n",
      "\u001b[32m2025-08-04 14:27:53.652\u001b[0m | \u001b[1mINFO    \u001b[0m | \u001b[36mml2_mlsupervisadoavanzado.eee.feature_enginering\u001b[0m:\u001b[36mencode_categoricals\u001b[0m:\u001b[36m51\u001b[0m - \u001b[1mCodificando con OHE market_segment\u001b[0m\n",
      "\u001b[32m2025-08-04 14:27:53.670\u001b[0m | \u001b[1mINFO    \u001b[0m | \u001b[36mml2_mlsupervisadoavanzado.eee.feature_enginering\u001b[0m:\u001b[36mencode_categoricals\u001b[0m:\u001b[36m51\u001b[0m - \u001b[1mCodificando con OHE reserved_room_type\u001b[0m\n",
      "\u001b[32m2025-08-04 14:27:55.487\u001b[0m | \u001b[1mINFO    \u001b[0m | \u001b[36mml2_mlsupervisadoavanzado.eee.feature_enginering\u001b[0m:\u001b[36mwrite_feature_table\u001b[0m:\u001b[36m108\u001b[0m - \u001b[1mEscribiendo feature table en ../ml2_mlsupervisadoavanzado/eee/data/bookings_feature_table\u001b[0m\n"
     ]
    }
   ],
   "source": [
    "train_processor = FeatureEngineeringProcessor(\n",
    "    raw_data=train_raw_data,\n",
    "    pipeline_name=\"train_pipeline\"\n",
    ")\n",
    "# Ejecuta el procesamiento de características.\n",
    "train_processor.run()\n",
    "\n",
    "# Guarda la tabla de características en disco.\n",
    "train_processor.write_feature_table(\"../ml2_mlsupervisadoavanzado/eee/data/bookings_feature_table\")"
   ]
  },
  {
   "cell_type": "code",
   "execution_count": 126,
   "id": "55f1c117",
   "metadata": {},
   "outputs": [
    {
     "data": {
      "text/html": [
       "<div>\n",
       "<style scoped>\n",
       "    .dataframe tbody tr th:only-of-type {\n",
       "        vertical-align: middle;\n",
       "    }\n",
       "\n",
       "    .dataframe tbody tr th {\n",
       "        vertical-align: top;\n",
       "    }\n",
       "\n",
       "    .dataframe thead th {\n",
       "        text-align: right;\n",
       "    }\n",
       "</style>\n",
       "<table border=\"1\" class=\"dataframe\">\n",
       "  <thead>\n",
       "    <tr style=\"text-align: right;\">\n",
       "      <th></th>\n",
       "      <th>booking_id</th>\n",
       "      <th>event_timestamp</th>\n",
       "      <th>created</th>\n",
       "      <th>great_feature1</th>\n",
       "      <th>great_feature2</th>\n",
       "    </tr>\n",
       "  </thead>\n",
       "  <tbody>\n",
       "    <tr>\n",
       "      <th>0</th>\n",
       "      <td>76c5a6aa-f7e1-4957-a6d3-db9f2307a7e7</td>\n",
       "      <td>2025-08-04 14:27:54.258511</td>\n",
       "      <td>2025-08-04 14:27:55.374306</td>\n",
       "      <td>2.169662</td>\n",
       "      <td>0.890985</td>\n",
       "    </tr>\n",
       "    <tr>\n",
       "      <th>1</th>\n",
       "      <td>0246660c-ead1-4f0d-ad4a-0bdf4092a315</td>\n",
       "      <td>2025-08-04 14:27:54.258514</td>\n",
       "      <td>2025-08-04 14:27:55.374310</td>\n",
       "      <td>2.309743</td>\n",
       "      <td>-0.817679</td>\n",
       "    </tr>\n",
       "    <tr>\n",
       "      <th>2</th>\n",
       "      <td>d3236ae9-d77c-40e8-8922-91a5703ac13a</td>\n",
       "      <td>2025-08-04 14:27:54.258515</td>\n",
       "      <td>2025-08-04 14:27:55.374311</td>\n",
       "      <td>5.391121</td>\n",
       "      <td>-1.749610</td>\n",
       "    </tr>\n",
       "    <tr>\n",
       "      <th>3</th>\n",
       "      <td>f01bb250-8087-4614-99b8-207a47c94dde</td>\n",
       "      <td>2025-08-04 14:27:54.258515</td>\n",
       "      <td>2025-08-04 14:27:55.374311</td>\n",
       "      <td>-0.049387</td>\n",
       "      <td>1.275659</td>\n",
       "    </tr>\n",
       "    <tr>\n",
       "      <th>4</th>\n",
       "      <td>56233e0f-9ae2-4946-90d4-3bf63eaad781</td>\n",
       "      <td>2025-08-04 14:27:54.258515</td>\n",
       "      <td>2025-08-04 14:27:55.374311</td>\n",
       "      <td>-0.626450</td>\n",
       "      <td>-0.132513</td>\n",
       "    </tr>\n",
       "  </tbody>\n",
       "</table>\n",
       "</div>"
      ],
      "text/plain": [
       "                             booking_id            event_timestamp  \\\n",
       "0  76c5a6aa-f7e1-4957-a6d3-db9f2307a7e7 2025-08-04 14:27:54.258511   \n",
       "1  0246660c-ead1-4f0d-ad4a-0bdf4092a315 2025-08-04 14:27:54.258514   \n",
       "2  d3236ae9-d77c-40e8-8922-91a5703ac13a 2025-08-04 14:27:54.258515   \n",
       "3  f01bb250-8087-4614-99b8-207a47c94dde 2025-08-04 14:27:54.258515   \n",
       "4  56233e0f-9ae2-4946-90d4-3bf63eaad781 2025-08-04 14:27:54.258515   \n",
       "\n",
       "                     created  great_feature1  great_feature2  \n",
       "0 2025-08-04 14:27:55.374306        2.169662        0.890985  \n",
       "1 2025-08-04 14:27:55.374310        2.309743       -0.817679  \n",
       "2 2025-08-04 14:27:55.374311        5.391121       -1.749610  \n",
       "3 2025-08-04 14:27:55.374311       -0.049387        1.275659  \n",
       "4 2025-08-04 14:27:55.374311       -0.626450       -0.132513  "
      ]
     },
     "execution_count": 126,
     "metadata": {},
     "output_type": "execute_result"
    }
   ],
   "source": [
    "df_parquet = pd.read_parquet(\"../ml2_mlsupervisadoavanzado/eee/data/bookings_feature_table.parquet\")\n",
    "df_parquet[[\"booking_id\", \"event_timestamp\", \"created\", \"great_feature1\", \"great_feature2\"]].head()"
   ]
  },
  {
   "cell_type": "markdown",
   "id": "8b633542",
   "metadata": {},
   "source": [
    "# Consumir features"
   ]
  },
  {
   "cell_type": "code",
   "execution_count": 127,
   "id": "37ef1660",
   "metadata": {},
   "outputs": [],
   "source": [
    "from feast import FeatureStore\n",
    "from feast import FileSource, Entity, FeatureView, ValueType, Field\n",
    "from feast.types import Float64\n",
    "\n",
    "# Define una entidad para los clientes.\n",
    "customer_entity = Entity(\n",
    "    name=\"customer_id\",\n",
    "    value_type=ValueType.STRING,\n",
    "    join_keys=[\"booking_id\"],\n",
    "    description=\"ID del booking del cliente\",\n",
    ")\n",
    "## Define una nueva fuente de datos\n",
    "#customer_source = FileSource(\n",
    "    #name=\"customer_source\",\n",
    "    #path=\"../../ml2_mlsupervisadoavanzado/eee/data/bookings_feature_table.parquet\",\n",
    "    #timestamp_field=\"event_timestamp\",\n",
    "#)\n",
    "# Define una vista de características para los clientes.\n",
    "customer_view = FeatureView(\n",
    "    name=\"customer_view\",\n",
    "    entities=[customer_entity],\n",
    "    source=FileSource(\n",
    "        name=\"customer_source\",\n",
    "        path=\"../../ml2_mlsupervisadoavanzado/eee/data/bookings_feature_table.parquet\",\n",
    "        timestamp_field=\"event_timestamp\",\n",
    "    ),\n",
    "    schema=[\n",
    "        Field(name=\"great_feature1\", dtype=Float64, description=\"This is a great feature\"),\n",
    "        Field(name=\"great_feature2\", dtype=Float64, description=\"This is a great feature\"),\n",
    "    ],\n",
    "    # ttl=None,  # No se aplica TTL para este ejemplo.\n",
    "    online=True,\n",
    ")\n",
    "\n",
    "# Crea un FeatureStore para consumir las características.\n",
    "fs = FeatureStore(\"../feature_repo/feature_repo\")\n",
    "# Registra la entidad y la vista de características en el FeatureStore.\n",
    "fs.apply([customer_entity, customer_view])"
   ]
  },
  {
   "cell_type": "code",
   "execution_count": 79,
   "id": "84c9e03c",
   "metadata": {},
   "outputs": [],
   "source": [
    "## Carga las características de la vista de clientes.\n",
    "#features = fs.get_online_features(\n",
    "    #features=[\"customer_view:great_feature1\", \"customer_view:great_feature2\"],\n",
    "    ## entity_rows=[{\"customer_id\": 1}, {\"customer_id\": 2}],\n",
    "    #entity_rows= [{\"customer_id\": i} for i in pd.read_parquet(\"../ml2_mlsupervisadoavanzado/eee/data/bookings_feature_table.parquet\")[\"booking_id\"][:1].tolist()]\n",
    "#).to_dict()\n",
    "## Imprime las características obtenidas.\n",
    "#print(features)"
   ]
  },
  {
   "cell_type": "code",
   "execution_count": 128,
   "id": "6b809e8d",
   "metadata": {},
   "outputs": [
    {
     "data": {
      "text/html": [
       "<div>\n",
       "<style scoped>\n",
       "    .dataframe tbody tr th:only-of-type {\n",
       "        vertical-align: middle;\n",
       "    }\n",
       "\n",
       "    .dataframe tbody tr th {\n",
       "        vertical-align: top;\n",
       "    }\n",
       "\n",
       "    .dataframe thead th {\n",
       "        text-align: right;\n",
       "    }\n",
       "</style>\n",
       "<table border=\"1\" class=\"dataframe\">\n",
       "  <thead>\n",
       "    <tr style=\"text-align: right;\">\n",
       "      <th></th>\n",
       "      <th>booking_id</th>\n",
       "      <th>event_timestamp</th>\n",
       "    </tr>\n",
       "  </thead>\n",
       "  <tbody>\n",
       "    <tr>\n",
       "      <th>0</th>\n",
       "      <td>76c5a6aa-f7e1-4957-a6d3-db9f2307a7e7</td>\n",
       "      <td>2025-08-04 19:28:56.157803+00:00</td>\n",
       "    </tr>\n",
       "    <tr>\n",
       "      <th>1</th>\n",
       "      <td>0246660c-ead1-4f0d-ad4a-0bdf4092a315</td>\n",
       "      <td>2025-08-04 19:28:56.157803+00:00</td>\n",
       "    </tr>\n",
       "    <tr>\n",
       "      <th>2</th>\n",
       "      <td>d3236ae9-d77c-40e8-8922-91a5703ac13a</td>\n",
       "      <td>2025-08-04 19:28:56.157803+00:00</td>\n",
       "    </tr>\n",
       "    <tr>\n",
       "      <th>3</th>\n",
       "      <td>f01bb250-8087-4614-99b8-207a47c94dde</td>\n",
       "      <td>2025-08-04 19:28:56.157803+00:00</td>\n",
       "    </tr>\n",
       "    <tr>\n",
       "      <th>4</th>\n",
       "      <td>56233e0f-9ae2-4946-90d4-3bf63eaad781</td>\n",
       "      <td>2025-08-04 19:28:56.157803+00:00</td>\n",
       "    </tr>\n",
       "    <tr>\n",
       "      <th>...</th>\n",
       "      <td>...</td>\n",
       "      <td>...</td>\n",
       "    </tr>\n",
       "    <tr>\n",
       "      <th>995</th>\n",
       "      <td>44f87017-b43a-4668-8503-e886fb212519</td>\n",
       "      <td>2025-08-04 19:28:56.157803+00:00</td>\n",
       "    </tr>\n",
       "    <tr>\n",
       "      <th>996</th>\n",
       "      <td>4e9bb413-41b3-42c4-b7b3-b33ab13f6e59</td>\n",
       "      <td>2025-08-04 19:28:56.157803+00:00</td>\n",
       "    </tr>\n",
       "    <tr>\n",
       "      <th>997</th>\n",
       "      <td>975178fa-5501-41b5-8c9c-4b993a177dfb</td>\n",
       "      <td>2025-08-04 19:28:56.157803+00:00</td>\n",
       "    </tr>\n",
       "    <tr>\n",
       "      <th>998</th>\n",
       "      <td>db33ebdd-39e1-4e16-858d-e4a37bd16679</td>\n",
       "      <td>2025-08-04 19:28:56.157803+00:00</td>\n",
       "    </tr>\n",
       "    <tr>\n",
       "      <th>999</th>\n",
       "      <td>249a6f19-cf7f-42d5-bc5c-6962481969ca</td>\n",
       "      <td>2025-08-04 19:28:56.157803+00:00</td>\n",
       "    </tr>\n",
       "  </tbody>\n",
       "</table>\n",
       "<p>1000 rows × 2 columns</p>\n",
       "</div>"
      ],
      "text/plain": [
       "                               booking_id                  event_timestamp\n",
       "0    76c5a6aa-f7e1-4957-a6d3-db9f2307a7e7 2025-08-04 19:28:56.157803+00:00\n",
       "1    0246660c-ead1-4f0d-ad4a-0bdf4092a315 2025-08-04 19:28:56.157803+00:00\n",
       "2    d3236ae9-d77c-40e8-8922-91a5703ac13a 2025-08-04 19:28:56.157803+00:00\n",
       "3    f01bb250-8087-4614-99b8-207a47c94dde 2025-08-04 19:28:56.157803+00:00\n",
       "4    56233e0f-9ae2-4946-90d4-3bf63eaad781 2025-08-04 19:28:56.157803+00:00\n",
       "..                                    ...                              ...\n",
       "995  44f87017-b43a-4668-8503-e886fb212519 2025-08-04 19:28:56.157803+00:00\n",
       "996  4e9bb413-41b3-42c4-b7b3-b33ab13f6e59 2025-08-04 19:28:56.157803+00:00\n",
       "997  975178fa-5501-41b5-8c9c-4b993a177dfb 2025-08-04 19:28:56.157803+00:00\n",
       "998  db33ebdd-39e1-4e16-858d-e4a37bd16679 2025-08-04 19:28:56.157803+00:00\n",
       "999  249a6f19-cf7f-42d5-bc5c-6962481969ca 2025-08-04 19:28:56.157803+00:00\n",
       "\n",
       "[1000 rows x 2 columns]"
      ]
     },
     "execution_count": 128,
     "metadata": {},
     "output_type": "execute_result"
    }
   ],
   "source": [
    "entity_df_offline = pd.DataFrame.from_dict(\n",
    "        {\n",
    "            # IDs de reservas para consultar features.\n",
    "            # \"customer_id\": [\"f1ccaa85-7747-4dc3-be4d-5f229a2e07a4\", \"1466b87e-16c3-484e-b122-c0de8f375e0e\"],\n",
    "            \"booking_id\": pd.read_parquet(\"../ml2_mlsupervisadoavanzado/eee/data/bookings_feature_table.parquet\")[\"booking_id\"][:1000].tolist(),\n",
    "        },\n",
    "    )\n",
    "\n",
    "entity_df_offline[\"event_timestamp\"] = pd.to_datetime(\"now\", utc=True)\n",
    "entity_df_offline"
   ]
  },
  {
   "cell_type": "code",
   "execution_count": 129,
   "id": "470fdb81",
   "metadata": {},
   "outputs": [
    {
     "data": {
      "text/html": [
       "<div>\n",
       "<style scoped>\n",
       "    .dataframe tbody tr th:only-of-type {\n",
       "        vertical-align: middle;\n",
       "    }\n",
       "\n",
       "    .dataframe tbody tr th {\n",
       "        vertical-align: top;\n",
       "    }\n",
       "\n",
       "    .dataframe thead th {\n",
       "        text-align: right;\n",
       "    }\n",
       "</style>\n",
       "<table border=\"1\" class=\"dataframe\">\n",
       "  <thead>\n",
       "    <tr style=\"text-align: right;\">\n",
       "      <th></th>\n",
       "      <th>booking_id</th>\n",
       "      <th>event_timestamp</th>\n",
       "      <th>great_feature1</th>\n",
       "      <th>great_feature2</th>\n",
       "    </tr>\n",
       "  </thead>\n",
       "  <tbody>\n",
       "    <tr>\n",
       "      <th>0</th>\n",
       "      <td>76c5a6aa-f7e1-4957-a6d3-db9f2307a7e7</td>\n",
       "      <td>2025-08-04 19:28:56.157803+00:00</td>\n",
       "      <td>2.169662</td>\n",
       "      <td>0.890985</td>\n",
       "    </tr>\n",
       "    <tr>\n",
       "      <th>1</th>\n",
       "      <td>0246660c-ead1-4f0d-ad4a-0bdf4092a315</td>\n",
       "      <td>2025-08-04 19:28:56.157803+00:00</td>\n",
       "      <td>2.309743</td>\n",
       "      <td>-0.817679</td>\n",
       "    </tr>\n",
       "    <tr>\n",
       "      <th>2</th>\n",
       "      <td>d3236ae9-d77c-40e8-8922-91a5703ac13a</td>\n",
       "      <td>2025-08-04 19:28:56.157803+00:00</td>\n",
       "      <td>5.391121</td>\n",
       "      <td>-1.749610</td>\n",
       "    </tr>\n",
       "    <tr>\n",
       "      <th>3</th>\n",
       "      <td>f01bb250-8087-4614-99b8-207a47c94dde</td>\n",
       "      <td>2025-08-04 19:28:56.157803+00:00</td>\n",
       "      <td>-0.049387</td>\n",
       "      <td>1.275659</td>\n",
       "    </tr>\n",
       "    <tr>\n",
       "      <th>4</th>\n",
       "      <td>56233e0f-9ae2-4946-90d4-3bf63eaad781</td>\n",
       "      <td>2025-08-04 19:28:56.157803+00:00</td>\n",
       "      <td>-0.626450</td>\n",
       "      <td>-0.132513</td>\n",
       "    </tr>\n",
       "  </tbody>\n",
       "</table>\n",
       "</div>"
      ],
      "text/plain": [
       "                             booking_id                  event_timestamp  \\\n",
       "0  76c5a6aa-f7e1-4957-a6d3-db9f2307a7e7 2025-08-04 19:28:56.157803+00:00   \n",
       "1  0246660c-ead1-4f0d-ad4a-0bdf4092a315 2025-08-04 19:28:56.157803+00:00   \n",
       "2  d3236ae9-d77c-40e8-8922-91a5703ac13a 2025-08-04 19:28:56.157803+00:00   \n",
       "3  f01bb250-8087-4614-99b8-207a47c94dde 2025-08-04 19:28:56.157803+00:00   \n",
       "4  56233e0f-9ae2-4946-90d4-3bf63eaad781 2025-08-04 19:28:56.157803+00:00   \n",
       "\n",
       "   great_feature1  great_feature2  \n",
       "0        2.169662        0.890985  \n",
       "1        2.309743       -0.817679  \n",
       "2        5.391121       -1.749610  \n",
       "3       -0.049387        1.275659  \n",
       "4       -0.626450       -0.132513  "
      ]
     },
     "execution_count": 129,
     "metadata": {},
     "output_type": "execute_result"
    }
   ],
   "source": [
    "feature_table = fs.get_historical_features(\n",
    "    # Consulta las features históricas en Feast usando los valores del DataFrame.\n",
    "    entity_df=entity_df_offline,\n",
    "    features=[\n",
    "        # Solicita las features 'great_feature1' y 'great_feature2' de la vista 'pc_booking_view',\n",
    "        \"customer_view:great_feature1\",\n",
    "        \"customer_view:great_feature2\",\n",
    "    ],\n",
    "# Convierte el resultado a un DataFrame de pandas.\n",
    ").to_df()\n",
    "feature_table.head()"
   ]
  },
  {
   "cell_type": "markdown",
   "id": "42584fed",
   "metadata": {},
   "source": [
    "# Preprocesamiento"
   ]
  },
  {
   "cell_type": "code",
   "execution_count": 131,
   "id": "61b05433",
   "metadata": {},
   "outputs": [
    {
     "data": {
      "text/html": [
       "<div>\n",
       "<style scoped>\n",
       "    .dataframe tbody tr th:only-of-type {\n",
       "        vertical-align: middle;\n",
       "    }\n",
       "\n",
       "    .dataframe tbody tr th {\n",
       "        vertical-align: top;\n",
       "    }\n",
       "\n",
       "    .dataframe thead th {\n",
       "        text-align: right;\n",
       "    }\n",
       "</style>\n",
       "<table border=\"1\" class=\"dataframe\">\n",
       "  <thead>\n",
       "    <tr style=\"text-align: right;\">\n",
       "      <th></th>\n",
       "      <th>booking_id</th>\n",
       "      <th>event_timestamp</th>\n",
       "      <th>great_feature1</th>\n",
       "      <th>great_feature2</th>\n",
       "      <th>target</th>\n",
       "    </tr>\n",
       "  </thead>\n",
       "  <tbody>\n",
       "    <tr>\n",
       "      <th>0</th>\n",
       "      <td>76c5a6aa-f7e1-4957-a6d3-db9f2307a7e7</td>\n",
       "      <td>2025-08-04 19:28:56.157803+00:00</td>\n",
       "      <td>2.169662</td>\n",
       "      <td>0.890985</td>\n",
       "      <td>1</td>\n",
       "    </tr>\n",
       "    <tr>\n",
       "      <th>1</th>\n",
       "      <td>0246660c-ead1-4f0d-ad4a-0bdf4092a315</td>\n",
       "      <td>2025-08-04 19:28:56.157803+00:00</td>\n",
       "      <td>2.309743</td>\n",
       "      <td>-0.817679</td>\n",
       "      <td>0</td>\n",
       "    </tr>\n",
       "    <tr>\n",
       "      <th>2</th>\n",
       "      <td>d3236ae9-d77c-40e8-8922-91a5703ac13a</td>\n",
       "      <td>2025-08-04 19:28:56.157803+00:00</td>\n",
       "      <td>5.391121</td>\n",
       "      <td>-1.749610</td>\n",
       "      <td>1</td>\n",
       "    </tr>\n",
       "    <tr>\n",
       "      <th>3</th>\n",
       "      <td>f01bb250-8087-4614-99b8-207a47c94dde</td>\n",
       "      <td>2025-08-04 19:28:56.157803+00:00</td>\n",
       "      <td>-0.049387</td>\n",
       "      <td>1.275659</td>\n",
       "      <td>0</td>\n",
       "    </tr>\n",
       "    <tr>\n",
       "      <th>4</th>\n",
       "      <td>56233e0f-9ae2-4946-90d4-3bf63eaad781</td>\n",
       "      <td>2025-08-04 19:28:56.157803+00:00</td>\n",
       "      <td>-0.626450</td>\n",
       "      <td>-0.132513</td>\n",
       "      <td>0</td>\n",
       "    </tr>\n",
       "  </tbody>\n",
       "</table>\n",
       "</div>"
      ],
      "text/plain": [
       "                             booking_id                  event_timestamp  \\\n",
       "0  76c5a6aa-f7e1-4957-a6d3-db9f2307a7e7 2025-08-04 19:28:56.157803+00:00   \n",
       "1  0246660c-ead1-4f0d-ad4a-0bdf4092a315 2025-08-04 19:28:56.157803+00:00   \n",
       "2  d3236ae9-d77c-40e8-8922-91a5703ac13a 2025-08-04 19:28:56.157803+00:00   \n",
       "3  f01bb250-8087-4614-99b8-207a47c94dde 2025-08-04 19:28:56.157803+00:00   \n",
       "4  56233e0f-9ae2-4946-90d4-3bf63eaad781 2025-08-04 19:28:56.157803+00:00   \n",
       "\n",
       "   great_feature1  great_feature2  target  \n",
       "0        2.169662        0.890985       1  \n",
       "1        2.309743       -0.817679       0  \n",
       "2        5.391121       -1.749610       1  \n",
       "3       -0.049387        1.275659       0  \n",
       "4       -0.626450       -0.132513       0  "
      ]
     },
     "execution_count": 131,
     "metadata": {},
     "output_type": "execute_result"
    }
   ],
   "source": [
    "import random\n",
    "# Simula una columna de objetivo binario para el DataFrame de características.\n",
    "# Esto es solo para propósitos de demostración y no representa un objetivo real.\n",
    "feature_table[\"target\"] = [random.choice([0,1]) for i in range(1000)]\n",
    "feature_table.head()"
   ]
  },
  {
   "cell_type": "code",
   "execution_count": 132,
   "id": "0d065f9c",
   "metadata": {},
   "outputs": [],
   "source": [
    "X, y = feature_table.drop(columns=[\"booking_id\", \"event_timestamp\", \"target\"]), feature_table[\"target\"]\n",
    "X_train, X_test, y_train, y_test = train_test_split(X, y, test_size=0.2, random_state=42)"
   ]
  },
  {
   "cell_type": "code",
   "execution_count": 133,
   "id": "a4f1336c",
   "metadata": {},
   "outputs": [
    {
     "data": {
      "text/plain": [
       "(     great_feature1  great_feature2\n",
       " 29         5.524526        0.040074\n",
       " 535       -0.754964       -0.595458\n",
       " 695        1.386864        2.549544\n",
       " 557       -0.444625        1.452353\n",
       " 836       -0.264768        1.419504,\n",
       " 29     1\n",
       " 535    0\n",
       " 695    0\n",
       " 557    0\n",
       " 836    1\n",
       " Name: target, dtype: int64)"
      ]
     },
     "execution_count": 133,
     "metadata": {},
     "output_type": "execute_result"
    }
   ],
   "source": [
    "X_train.head(), y_train.head()  # Muestra las primeras filas de X_train e y_train para verificar el preprocesamiento."
   ]
  },
  {
   "cell_type": "markdown",
   "id": "8a56777e",
   "metadata": {},
   "source": [
    "# MLFlow"
   ]
  },
  {
   "cell_type": "code",
   "execution_count": 85,
   "id": "b432a15a",
   "metadata": {},
   "outputs": [
    {
     "data": {
      "text/html": [
       "<pre style=\"white-space:pre;overflow-x:auto;line-height:normal;font-family:Menlo,'DejaVu Sans Mono',consolas,'Courier New',monospace\">Initialized MLflow to track repo <span style=\"color: #008000; text-decoration-color: #008000\">\"edynsoncoronado/ml_supervisado_avanzado\"</span>\n",
       "</pre>\n"
      ],
      "text/plain": [
       "Initialized MLflow to track repo \u001b[32m\"edynsoncoronado/ml_supervisado_avanzado\"\u001b[0m\n"
      ]
     },
     "metadata": {},
     "output_type": "display_data"
    },
    {
     "data": {
      "text/html": [
       "<pre style=\"white-space:pre;overflow-x:auto;line-height:normal;font-family:Menlo,'DejaVu Sans Mono',consolas,'Courier New',monospace\">Repository edynsoncoronado/ml_supervisado_avanzado initialized!\n",
       "</pre>\n"
      ],
      "text/plain": [
       "Repository edynsoncoronado/ml_supervisado_avanzado initialized!\n"
      ]
     },
     "metadata": {},
     "output_type": "display_data"
    }
   ],
   "source": [
    "import mlflow\n",
    "import dagshub\n",
    "\n",
    "# Inicializa la integración con DagsHub, especificando el propietario y nombre del repositorio,\n",
    "# y habilita la integración con MLflow para registrar experimentos en DagsHub\n",
    "dagshub.init(\n",
    "  repo_owner='edynsoncoronado',\n",
    "  repo_name='ml_supervisado_avanzado',\n",
    "  mlflow=True\n",
    ")"
   ]
  },
  {
   "cell_type": "code",
   "execution_count": 86,
   "id": "df16a724",
   "metadata": {},
   "outputs": [
    {
     "data": {
      "text/plain": [
       "<Experiment: artifact_location='mlflow-artifacts:/cd779af4798d4005a6e6408ada59fecf', creation_time=1754329033951, experiment_id='3', last_update_time=1754329033951, lifecycle_stage='active', name='MLSupervisadoavanzado + MLFlow + Feast', tags={}>"
      ]
     },
     "execution_count": 86,
     "metadata": {},
     "output_type": "execute_result"
    }
   ],
   "source": [
    "mlflow.set_tracking_uri(\"https://dagshub.com/edynsoncoronado/ml_supervisado_avanzado.mlflow\")\n",
    "\n",
    "name_experiment = \"MLSupervisadoavanzado + MLFlow + Feast\"\n",
    "# mlflow.create_experiment(name_experiment)\n",
    "mlflow.set_experiment(name_experiment)"
   ]
  },
  {
   "cell_type": "markdown",
   "id": "4b7b654f",
   "metadata": {},
   "source": [
    "## MLSupervisado"
   ]
  },
  {
   "cell_type": "code",
   "execution_count": 87,
   "id": "b68454eb",
   "metadata": {},
   "outputs": [
    {
     "name": "stderr",
     "output_type": "stream",
     "text": [
      "2025/08/04 14:12:25 INFO mlflow.bedrock: Enabled auto-tracing for Bedrock. Note that MLflow can only trace boto3 service clients that are created after this call. If you have already created one, please recreate the client by calling `boto3.client`.\n",
      "2025/08/04 14:12:25 INFO mlflow.tracking.fluent: Autologging successfully enabled for boto3.\n",
      "2025/08/04 14:12:25 WARNING mlflow.utils.autologging_utils: MLflow sklearn autologging is known to be compatible with 0.24.1 <= scikit-learn <= 1.6.1, but the installed version is 1.7.1. If you encounter errors during autologging, try upgrading / downgrading scikit-learn to a compatible version, or try upgrading MLflow.\n",
      "2025/08/04 14:12:25 INFO mlflow.tracking.fluent: Autologging successfully enabled for sklearn.\n",
      "2025/08/04 14:12:25 WARNING mlflow.utils.autologging_utils: MLflow transformers autologging is known to be compatible with 4.35.2 <= transformers <= 4.51.2, but the installed version is 4.53.2. If you encounter errors during autologging, try upgrading / downgrading transformers to a compatible version, or try upgrading MLflow.\n",
      "2025/08/04 14:12:25 INFO mlflow.tracking.fluent: Autologging successfully enabled for transformers.\n",
      "/home/edyn/Documentos/obsidian-doc/Projects/MachineLearningEngineer/Curso2/Proyecto/Repo/ml2_class4_mlsupervisadoavanzado/.venv/lib/python3.12/site-packages/sklearn/metrics/_classification.py:1731: UndefinedMetricWarning: Precision is ill-defined and being set to 0.0 in labels with no predicted samples. Use `zero_division` parameter to control this behavior.\n",
      "  _warn_prf(average, modifier, f\"{metric.capitalize()} is\", result.shape[0])\n",
      "2025/08/04 14:12:29 WARNING mlflow.utils.autologging_utils: MLflow autologging encountered a warning: \"/home/edyn/Documentos/obsidian-doc/Projects/MachineLearningEngineer/Curso2/Proyecto/Repo/ml2_class4_mlsupervisadoavanzado/.venv/lib/python3.12/site-packages/mlflow/models/model.py:365: DeprecationWarning: datetime.datetime.utcnow() is deprecated and scheduled for removal in a future version. Use timezone-aware objects to represent datetimes in UTC: datetime.datetime.now(datetime.UTC).\"\n"
     ]
    },
    {
     "name": "stdout",
     "output_type": "stream",
     "text": [
      "🏃 View run Baseline - Dummy Classifier - Con métricas at: https://dagshub.com/edynsoncoronado/ml_supervisado_avanzado.mlflow/#/experiments/3/runs/c055fb4f28f9412c8df4f27ad4546147\n",
      "🧪 View experiment at: https://dagshub.com/edynsoncoronado/ml_supervisado_avanzado.mlflow/#/experiments/3\n"
     ]
    }
   ],
   "source": [
    "from sklearn.dummy import DummyClassifier\n",
    "from sklearn.metrics import accuracy_score, f1_score\n",
    "\n",
    "# Activa el registro automático de parámetros, métricas y artefactos de modelos compatibles con MLflow\n",
    "mlflow.autolog()\n",
    "\n",
    "# Inicia una nueva ejecución de MLflow con el nombre especificado\n",
    "with mlflow.start_run(run_name=\"Baseline - Dummy Classifier - Con métricas\") as run:\n",
    "\n",
    "    # Crea una instancia del clasificador Dummy usando la estrategia \"most_frequent\"\n",
    "    algorithm = DummyClassifier(strategy=\"most_frequent\")\n",
    "    # Ajusta el clasificador Dummy con los datos de entrenamiento\n",
    "    algorithm.fit(X_train, y_train)\n",
    "\n",
    "    # Realiza predicciones sobre el conjunto de prueba\n",
    "    predictions = algorithm.predict(X_test)\n",
    "\n",
    "    # Calcula la métrica de exactitud (accuracy) usando las etiquetas verdaderas y las predichas\n",
    "    _accuracy_score = accuracy_score(y_test, predictions)\n",
    "    # Calcula la métrica F1 usando las etiquetas verdaderas y las predichas\n",
    "    _f1_score = f1_score(y_test, predictions)\n",
    "    \n",
    "    # Registra las métricas calculadas en MLflow\n",
    "    mlflow.log_metrics(\n",
    "        {\n",
    "            \"accuracy\": _accuracy_score,\n",
    "            \"f1\": _f1_score\n",
    "        }\n",
    "    )"
   ]
  },
  {
   "cell_type": "code",
   "execution_count": 88,
   "id": "e3cae240",
   "metadata": {},
   "outputs": [
    {
     "name": "stdout",
     "output_type": "stream",
     "text": [
      "Accuracy: 0.435\n",
      "F1 Score: 0.6062717770034843\n"
     ]
    }
   ],
   "source": [
    "print(f\"Accuracy: {_accuracy_score}\")\n",
    "print(f\"F1 Score: {_f1_score}\")\n",
    "# mlflow.log_artifact(\"model.pkl\")  # Descomentar si se desea registrar\n",
    "# el modelo como un artefacto en MLflow."
   ]
  },
  {
   "cell_type": "markdown",
   "id": "ab7443f0",
   "metadata": {},
   "source": [
    "# MLNoSupervisado"
   ]
  },
  {
   "cell_type": "code",
   "execution_count": 134,
   "id": "fc0fcf5b",
   "metadata": {},
   "outputs": [],
   "source": [
    "from sklearn.preprocessing import StandardScaler"
   ]
  },
  {
   "cell_type": "code",
   "execution_count": 135,
   "id": "56ee3388",
   "metadata": {},
   "outputs": [
    {
     "data": {
      "text/plain": [
       "Index(['great_feature1', 'great_feature2', 'target'], dtype='object')"
      ]
     },
     "execution_count": 135,
     "metadata": {},
     "output_type": "execute_result"
    }
   ],
   "source": [
    "feature_table.columns[-3:]"
   ]
  },
  {
   "cell_type": "code",
   "execution_count": 136,
   "id": "ac093d47",
   "metadata": {},
   "outputs": [
    {
     "name": "stdout",
     "output_type": "stream",
     "text": [
      "Antes de escalar: \n",
      "    great_feature1  great_feature2  target\n",
      "0        2.169662        0.890985       1\n",
      "1        2.309743       -0.817679       0\n",
      "2        5.391121       -1.749610       1\n",
      "3       -0.049387        1.275659       0\n",
      "4       -0.626450       -0.132513       0\n",
      "Después de escalar: \n",
      " [[ 1.80415868  0.84593352  0.97432938]\n",
      " [ 1.92892451 -0.99556897 -1.02634696]\n",
      " [ 4.67342026 -1.99995192  0.97432938]\n",
      " [-0.17228544  1.26051352 -1.02634696]\n",
      " [-0.68625953 -0.25713532 -1.02634696]]\n"
     ]
    }
   ],
   "source": [
    "columns = feature_table.columns[-3:] # Selecciona las últimas 3 últimas columnas para el escalado.\n",
    "tmp_data_to_process = feature_table[columns]\n",
    "\n",
    "scaler = StandardScaler()\n",
    "scaled_data = scaler.fit_transform(tmp_data_to_process)\n",
    "\n",
    "print(\"Antes de escalar: \\n\", tmp_data_to_process.head())\n",
    "print(\"Después de escalar: \\n\", scaled_data[:5])"
   ]
  },
  {
   "cell_type": "code",
   "execution_count": 154,
   "id": "5e5f8a60",
   "metadata": {},
   "outputs": [
    {
     "name": "stdout",
     "output_type": "stream",
     "text": [
      "scores: [0.40559988797232194, 0.4396369447221587, 0.41321828113460685, 0.3697833670300074, 0.37528911346194715, 0.36997740417096786, 0.3949304360178553, 0.3872120673899802]\n",
      "Mejor k según Silhouette Score: 3\n"
     ]
    }
   ],
   "source": [
    "from sklearn.metrics import silhouette_score\n",
    "from sklearn.cluster import KMeans\n",
    "\n",
    "mlflow.autolog(disable=True)  # Desactiva el autologging para evitar conflictos con el registro manual de métricas.\n",
    "\n",
    "if mlflow.active_run():\n",
    "    mlflow.end_run()\n",
    "\n",
    "scores = []\n",
    "k_range = range(2, 10)\n",
    "\n",
    "for k in k_range:\n",
    "    kmeans = KMeans(n_clusters=k, random_state=42)\n",
    "    labels = kmeans.fit_predict(scaled_data)\n",
    "    score = silhouette_score(scaled_data, labels)\n",
    "    scores.append(score)\n",
    "\n",
    "print(\"scores:\", scores)\n",
    "print(\"Mejor k según Silhouette Score:\", k_range[np.argmax(scores)])"
   ]
  },
  {
   "cell_type": "code",
   "execution_count": 155,
   "id": "5ba40b86",
   "metadata": {},
   "outputs": [
    {
     "data": {
      "image/png": "[encoded data removed]",
      "text/plain": [
       "<Figure size 640x480 with 1 Axes>"
      ]
     },
     "metadata": {},
     "output_type": "display_data"
    }
   ],
   "source": [
    "import matplotlib.pyplot as plt\n",
    "\n",
    "plt.plot(k_range, scores, marker='o')\n",
    "plt.title(\"Índice de Silhouette según k\")\n",
    "plt.xlabel(\"Número de clusters (k)\")\n",
    "plt.ylabel(\"Silhouette Score\")\n",
    "plt.grid()\n",
    "plt.show()"
   ]
  },
  {
   "cell_type": "code",
   "execution_count": 157,
   "id": "3a0fb534",
   "metadata": {},
   "outputs": [
    {
     "name": "stderr",
     "output_type": "stream",
     "text": [
      "2025/08/04 14:45:33 INFO mlflow.bedrock: Enabled auto-tracing for Bedrock. Note that MLflow can only trace boto3 service clients that are created after this call. If you have already created one, please recreate the client by calling `boto3.client`.\n",
      "2025/08/04 14:45:33 INFO mlflow.tracking.fluent: Autologging successfully enabled for boto3.\n",
      "2025/08/04 14:45:33 WARNING mlflow.utils.autologging_utils: MLflow sklearn autologging is known to be compatible with 0.24.1 <= scikit-learn <= 1.6.1, but the installed version is 1.7.1. If you encounter errors during autologging, try upgrading / downgrading scikit-learn to a compatible version, or try upgrading MLflow.\n",
      "2025/08/04 14:45:33 INFO mlflow.tracking.fluent: Autologging successfully enabled for sklearn.\n",
      "2025/08/04 14:45:33 WARNING mlflow.utils.autologging_utils: MLflow transformers autologging is known to be compatible with 4.35.2 <= transformers <= 4.51.2, but the installed version is 4.53.2. If you encounter errors during autologging, try upgrading / downgrading transformers to a compatible version, or try upgrading MLflow.\n",
      "2025/08/04 14:45:33 INFO mlflow.tracking.fluent: Autologging successfully enabled for transformers.\n",
      "2025/08/04 14:45:34 WARNING mlflow.sklearn: Training metrics will not be recorded because training labels were not specified. To automatically record training metrics, provide training labels as inputs to the model training function.\n",
      "2025/08/04 14:45:34 WARNING mlflow.utils.autologging_utils: MLflow autologging encountered a warning: \"/home/edyn/Documentos/obsidian-doc/Projects/MachineLearningEngineer/Curso2/Proyecto/Repo/ml2_class4_mlsupervisadoavanzado/.venv/lib/python3.12/site-packages/mlflow/models/model.py:365: DeprecationWarning: datetime.datetime.utcnow() is deprecated and scheduled for removal in a future version. Use timezone-aware objects to represent datetimes in UTC: datetime.datetime.now(datetime.UTC).\"\n"
     ]
    },
    {
     "name": "stdout",
     "output_type": "stream",
     "text": [
      "🏃 View run KMeans - Con métricas at: https://dagshub.com/edynsoncoronado/ml_supervisado_avanzado.mlflow/#/experiments/3/runs/6821a72bd8ce469a80d42ce110089686\n",
      "🧪 View experiment at: https://dagshub.com/edynsoncoronado/ml_supervisado_avanzado.mlflow/#/experiments/3\n"
     ]
    }
   ],
   "source": [
    "mlflow.autolog()\n",
    "\n",
    "with mlflow.start_run(run_name=\"KMeans - Con métricas\") as run:\n",
    "    kmeans = KMeans(n_clusters=3, random_state=42)\n",
    "    labels = kmeans.fit_predict(scaled_data)\n",
    "    score = silhouette_score(scaled_data, labels)\n",
    "    mlflow.log_metrics(\n",
    "        {\n",
    "            \"Silhouette Score\": score\n",
    "        }\n",
    "    )\n",
    "\n",
    "mlflow.autolog(disable=True)"
   ]
  },
  {
   "cell_type": "code",
   "execution_count": 158,
   "id": "967b9300",
   "metadata": {},
   "outputs": [
    {
     "name": "stdout",
     "output_type": "stream",
     "text": [
      "labels: {np.True_}\n"
     ]
    }
   ],
   "source": [
    "print(\"labels:\", set(labels== kmeans.labels_))"
   ]
  },
  {
   "cell_type": "code",
   "execution_count": 159,
   "id": "1deb82ab",
   "metadata": {},
   "outputs": [
    {
     "data": {
      "text/plain": [
       "(1000, 2)"
      ]
     },
     "execution_count": 159,
     "metadata": {},
     "output_type": "execute_result"
    }
   ],
   "source": [
    "from sklearn.decomposition import PCA\n",
    "\n",
    "pca = PCA(n_components=2)\n",
    "dim_reduction_results = pca.fit_transform(scaled_data)\n",
    "dim_reduction_results.shape"
   ]
  },
  {
   "cell_type": "code",
   "execution_count": 160,
   "id": "9960090d",
   "metadata": {},
   "outputs": [
    {
     "data": {
      "text/html": [
       "<div>\n",
       "<style scoped>\n",
       "    .dataframe tbody tr th:only-of-type {\n",
       "        vertical-align: middle;\n",
       "    }\n",
       "\n",
       "    .dataframe tbody tr th {\n",
       "        vertical-align: top;\n",
       "    }\n",
       "\n",
       "    .dataframe thead th {\n",
       "        text-align: right;\n",
       "    }\n",
       "</style>\n",
       "<table border=\"1\" class=\"dataframe\">\n",
       "  <thead>\n",
       "    <tr style=\"text-align: right;\">\n",
       "      <th></th>\n",
       "      <th>booking_id</th>\n",
       "      <th>dim1</th>\n",
       "      <th>dim2</th>\n",
       "      <th>cluster</th>\n",
       "    </tr>\n",
       "  </thead>\n",
       "  <tbody>\n",
       "    <tr>\n",
       "      <th>0</th>\n",
       "      <td>76c5a6aa-f7e1-4957-a6d3-db9f2307a7e7</td>\n",
       "      <td>-0.641707</td>\n",
       "      <td>0.626969</td>\n",
       "      <td>1</td>\n",
       "    </tr>\n",
       "    <tr>\n",
       "      <th>1</th>\n",
       "      <td>0246660c-ead1-4f0d-ad4a-0bdf4092a315</td>\n",
       "      <td>-1.110092</td>\n",
       "      <td>2.119771</td>\n",
       "      <td>2</td>\n",
       "    </tr>\n",
       "    <tr>\n",
       "      <th>2</th>\n",
       "      <td>d3236ae9-d77c-40e8-8922-91a5703ac13a</td>\n",
       "      <td>-4.060739</td>\n",
       "      <td>2.749067</td>\n",
       "      <td>2</td>\n",
       "    </tr>\n",
       "    <tr>\n",
       "      <th>3</th>\n",
       "      <td>f01bb250-8087-4614-99b8-207a47c94dde</td>\n",
       "      <td>1.523034</td>\n",
       "      <td>0.563300</td>\n",
       "      <td>0</td>\n",
       "    </tr>\n",
       "    <tr>\n",
       "      <th>4</th>\n",
       "      <td>56233e0f-9ae2-4946-90d4-3bf63eaad781</td>\n",
       "      <td>0.611188</td>\n",
       "      <td>0.211711</td>\n",
       "      <td>0</td>\n",
       "    </tr>\n",
       "  </tbody>\n",
       "</table>\n",
       "</div>"
      ],
      "text/plain": [
       "                             booking_id      dim1      dim2  cluster\n",
       "0  76c5a6aa-f7e1-4957-a6d3-db9f2307a7e7 -0.641707  0.626969        1\n",
       "1  0246660c-ead1-4f0d-ad4a-0bdf4092a315 -1.110092  2.119771        2\n",
       "2  d3236ae9-d77c-40e8-8922-91a5703ac13a -4.060739  2.749067        2\n",
       "3  f01bb250-8087-4614-99b8-207a47c94dde  1.523034  0.563300        0\n",
       "4  56233e0f-9ae2-4946-90d4-3bf63eaad781  0.611188  0.211711        0"
      ]
     },
     "execution_count": 160,
     "metadata": {},
     "output_type": "execute_result"
    }
   ],
   "source": [
    "df_dim_redution_results = pd.concat(\n",
    "  [\n",
    "    feature_table[[\"booking_id\"]],\n",
    "    pd.DataFrame(\n",
    "      dim_reduction_results,\n",
    "      columns=[\"dim1\", \"dim2\"]\n",
    "    ),\n",
    "    pd.DataFrame(\n",
    "        kmeans.labels_,\n",
    "        columns=[\"cluster\"]\n",
    "    )\n",
    "  ],\n",
    "  axis=1\n",
    ")\n",
    "df_dim_redution_results.head()"
   ]
  },
  {
   "cell_type": "code",
   "execution_count": 161,
   "id": "b70508cb",
   "metadata": {},
   "outputs": [
    {
     "data": {
      "image/png": "[encoded data removed]",
      "text/plain": [
       "<Figure size 640x480 with 1 Axes>"
      ]
     },
     "metadata": {},
     "output_type": "display_data"
    }
   ],
   "source": [
    "import seaborn as sns\n",
    "sns.set_style(\"whitegrid\")\n",
    "\n",
    "sns.scatterplot(x=\"dim1\", y=\"dim2\", data=df_dim_redution_results, hue=\"cluster\",palette=\"tab10\")\n",
    "plt.title(\"Clusters visualizados\")\n",
    "plt.show()"
   ]
  }
 ],
 "metadata": {
  "kernelspec": {
   "display_name": "Python 3 (ipykernel)",
   "language": "python",
   "name": "python3"
  },
  "language_info": {
   "codemirror_mode": {
    "name": "ipython",
    "version": 3
   },
   "file_extension": ".py",
   "mimetype": "text/x-python",
   "name": "python",
   "nbconvert_exporter": "python",
   "pygments_lexer": "ipython3",
   "version": "3.12.1"
  }
 },
 "nbformat": 4,
 "nbformat_minor": 5
}
